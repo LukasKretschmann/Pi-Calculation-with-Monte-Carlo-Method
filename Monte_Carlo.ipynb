{
 "cells": [
  {
   "cell_type": "code",
   "execution_count": 1,
   "metadata": {},
   "outputs": [
    {
     "name": "stdout",
     "output_type": "stream",
     "text": [
      "Anzahl von Tropfen im Kreis: 49999995\n",
      "Berechneter Wert : 3.1409659140965913\n",
      "Richtiger Wert für PI:   3.14159265359\n"
     ]
    }
   ],
   "source": [
    "import random\n",
    "import math\n",
    "\n",
    "i = 10000000\n",
    "\n",
    "count_inside1 = 0\n",
    "for count in range(i):\n",
    "    d = math.hypot(random.uniform(0,1),random.uniform(0,1))\n",
    "    if d < 1: count_inside1 += 1\n",
    "a = 4*count_inside1/count\n",
    "\n",
    "print(\"Anzahl von Tropfen im Kreis:\",count*5)\n",
    "print(\"Berechneter Wert :\",a)\n",
    "print(\"Richtiger Wert für PI:  \",3.14159265359)"
   ]
  },
  {
   "cell_type": "code",
   "execution_count": null,
   "metadata": {},
   "outputs": [],
   "source": []
  }
 ],
 "metadata": {
  "kernelspec": {
   "display_name": "Python 3",
   "language": "python",
   "name": "python3"
  },
  "language_info": {
   "codemirror_mode": {
    "name": "ipython",
    "version": 3
   },
   "file_extension": ".py",
   "mimetype": "text/x-python",
   "name": "python",
   "nbconvert_exporter": "python",
   "pygments_lexer": "ipython3",
   "version": "3.7.4"
  }
 },
 "nbformat": 4,
 "nbformat_minor": 2
}
